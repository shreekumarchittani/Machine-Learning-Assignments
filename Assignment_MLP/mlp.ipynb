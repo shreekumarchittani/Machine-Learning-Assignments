{
 "cells": [
  {
   "cell_type": "code",
   "execution_count": 1,
   "metadata": {},
   "outputs": [],
   "source": [
    "import numpy as np\n",
    "import pandas as pd\n",
    "from sklearn.datasets import make_classification\n",
    "from random import random\n",
    "from math import exp #for sigmoid activation function\n",
    "from sklearn.metrics import recall_score\n",
    "from sklearn.metrics import precision_score\n",
    "from sklearn.metrics import accuracy_score\n",
    "from sklearn.metrics import confusion_matrix"
   ]
  },
  {
   "cell_type": "code",
   "execution_count": 2,
   "metadata": {},
   "outputs": [],
   "source": [
    "#predicting function\n",
    "def predict(neuralNetwork, row):\n",
    "    outputs = forwardProp(neuralNetwork, row)\n",
    "    return outputs.index(max(outputs))"
   ]
  },
  {
   "cell_type": "code",
   "execution_count": 3,
   "metadata": {},
   "outputs": [],
   "source": [
    "def train(neuralNetwork, train, l_rate, n_epoch, n_outputs):\n",
    "    for epoch in range(n_epoch):\n",
    "        sum_error = 0\n",
    "        for row in train:\n",
    "            outputs = forwardProp(neuralNetwork, row)\n",
    "            expected = [0 for i in range(n_outputs)]\n",
    "            expected[int(row[-1])] = 1\n",
    "            sum_error += sum([(expected[i]-outputs[i])**2 for i in range(len(expected))])\n",
    "            BPError(neuralNetwork, expected)\n",
    "            update_weights(neuralNetwork, row, l_rate)\n",
    "        print('epoch=%d, lrate=%.5f, error=%.5f' % (epoch, l_rate, sum_error))\n"
   ]
  },
  {
   "cell_type": "code",
   "execution_count": 4,
   "metadata": {},
   "outputs": [],
   "source": [
    "#update weights on training\n",
    "def update_weights(neuralNetwork, row, l_rate):\n",
    "    for i in range(len(neuralNetwork)):\n",
    "        inputs=row[:-1]\n",
    "        if i!=0:\n",
    "            inputs=[perceptron['output'] for perceptron in neuralNetwork[i-1]]\n",
    "        for perceptron in neuralNetwork[i]:\n",
    "            for j in range(len(inputs)):\n",
    "                perceptron['weights'][j]+=l_rate*perceptron['delta']*inputs[j]\n",
    "            perceptron['weights'][-1]+=l_rate*perceptron['delta']\n",
    "\n"
   ]
  },
  {
   "cell_type": "code",
   "execution_count": 5,
   "metadata": {},
   "outputs": [],
   "source": [
    "#backward propogation to learn\n",
    "def BPError(neuralNetwork, expected):\n",
    "    for i in reversed(range(len(neuralNetwork))):\n",
    "        neuralLayer = neuralNetwork[i]\n",
    "        errors = list()\n",
    "        if i != len(neuralNetwork)-1:\n",
    "            for j in range(len(neuralLayer)):\n",
    "                error = 0.0\n",
    "                for perceptron in neuralNetwork[i + 1]:\n",
    "                    error += (perceptron['weights'][j] * perceptron['delta'])\n",
    "                errors.append(error)\n",
    "        else:\n",
    "            for j in range(len(neuralLayer)):\n",
    "                perceptron = neuralLayer[j]\n",
    "                errors.append(expected[j] - perceptron['output'])\n",
    "        for j in range(len(neuralLayer)):\n",
    "            perceptron = neuralLayer[j]\n",
    "            perceptron['delta'] = errors[j] * (perceptron['output'] * (1.0 - perceptron['output']))"
   ]
  },
  {
   "cell_type": "code",
   "execution_count": 6,
   "metadata": {},
   "outputs": [],
   "source": [
    "#forward propogation\n",
    "def forwardProp(neuralNetwork,row):\n",
    "    inputs=row\n",
    "    for neuralLayer in neuralNetwork:\n",
    "        new_inputs=[]\n",
    "        for perceptron in neuralLayer:\n",
    "            activationNum=activate(perceptron['weights'], inputs)\n",
    "            perceptron['output']= sigmoidActivationFunction(activationNum)\n",
    "            new_inputs.append(perceptron['output'])\n",
    "        inputs=new_inputs\n",
    "    return inputs\n"
   ]
  },
  {
   "cell_type": "code",
   "execution_count": 7,
   "metadata": {},
   "outputs": [],
   "source": [
    "#activation function\n",
    "def activate(weights, inputs):\n",
    "    activationNum=weights[-1] # Last value\n",
    "    for i in range(len(weights)-1):\n",
    "        activationNum+=weights[i]*inputs[i]\n",
    "    return activationNum\n",
    "\n",
    "def sigmoidActivationFunction(activationNum):\n",
    "    return 1.0 / (1.0 + exp(-activationNum))\n",
    "    #This is the sigmoid activationNum function"
   ]
  },
  {
   "cell_type": "code",
   "execution_count": 9,
   "metadata": {},
   "outputs": [],
   "source": [
    "#initializing the neuralNetwork for weights\n",
    "def initNetwork(inputsNum, hiddenNum, outputsNum):\n",
    "    mynetwork=list()\n",
    "    hiddenLayer = [{'weights':[random() for i in range(inputsNum + 1)]} for i in range(hiddenNum)]\n",
    "    mynetwork.append(hiddenLayer) #Hidden layer is the in between layer. Since user does not interact with that layer its called as hidden layer\n",
    "    outputLayer = [{'weights':[random() for i in range(hiddenNum + 1)]} for i in range(outputsNum)]\n",
    "    mynetwork.append(outputLayer)\n",
    "    return mynetwork\n"
   ]
  },
  {
   "cell_type": "code",
   "execution_count": 10,
   "metadata": {},
   "outputs": [],
   "source": [
    "samplesNum = 120 #total records\n",
    "featuresNum = 8 #total columns except outcome\n",
    "redundantNum = 1 #dependent variable\n",
    "classesNum = 2 # there aare two classes 0 and 1"
   ]
  },
  {
   "cell_type": "code",
   "execution_count": 11,
   "metadata": {},
   "outputs": [],
   "source": [
    "data=pd.read_csv('newdataset.csv',index_col=0)\n",
    "data.head()\n",
    "X, y = make_classification(n_samples=samplesNum, n_features=featuresNum,n_redundant=redundantNum, n_classes=classesNum)\n",
    "data = pd.DataFrame(X, columns=['Pregnancies', 'Glucose', 'BloodPressure','BMI','DiabetesPedigreeFunction','hba1c','urine','weight'])\n",
    "data['label'] = y\n",
    "data.head()\n",
    "dataset=np.array(data[:])\n",
    "inputsNum = len(dataset[0]) - 1\n",
    "outputsNum = len(set([row[-1] for row in dataset]))\n",
    "train_dataset=dataset[:83]\n",
    "test_dataset=dataset[83:]"
   ]
  },
  {
   "cell_type": "code",
   "execution_count": 12,
   "metadata": {},
   "outputs": [
    {
     "name": "stdout",
     "output_type": "stream",
     "text": [
      "epoch=0, lrate=0.50000, error=41.95785\n",
      "epoch=1, lrate=0.50000, error=34.79998\n",
      "epoch=2, lrate=0.50000, error=28.77317\n",
      "epoch=3, lrate=0.50000, error=24.71322\n",
      "epoch=4, lrate=0.50000, error=22.22500\n",
      "epoch=5, lrate=0.50000, error=20.57364\n",
      "epoch=6, lrate=0.50000, error=19.41657\n",
      "epoch=7, lrate=0.50000, error=18.57478\n",
      "epoch=8, lrate=0.50000, error=17.93068\n",
      "epoch=9, lrate=0.50000, error=17.40718\n",
      "epoch=10, lrate=0.50000, error=16.95788\n",
      "epoch=11, lrate=0.50000, error=16.55317\n",
      "epoch=12, lrate=0.50000, error=16.17978\n",
      "epoch=13, lrate=0.50000, error=15.84383\n",
      "epoch=14, lrate=0.50000, error=15.55962\n",
      "epoch=15, lrate=0.50000, error=15.32879\n",
      "epoch=16, lrate=0.50000, error=15.13822\n",
      "epoch=17, lrate=0.50000, error=14.97447\n",
      "epoch=18, lrate=0.50000, error=14.82919\n",
      "epoch=19, lrate=0.50000, error=14.69772\n",
      "epoch=20, lrate=0.50000, error=14.57731\n",
      "epoch=21, lrate=0.50000, error=14.46614\n",
      "epoch=22, lrate=0.50000, error=14.36294\n",
      "epoch=23, lrate=0.50000, error=14.26667\n",
      "epoch=24, lrate=0.50000, error=14.17652\n",
      "epoch=25, lrate=0.50000, error=14.09179\n",
      "epoch=26, lrate=0.50000, error=14.01194\n",
      "epoch=27, lrate=0.50000, error=13.93658\n",
      "epoch=28, lrate=0.50000, error=13.86536\n",
      "epoch=29, lrate=0.50000, error=13.79797\n",
      "epoch=30, lrate=0.50000, error=13.73403\n",
      "epoch=31, lrate=0.50000, error=13.67311\n",
      "epoch=32, lrate=0.50000, error=13.61472\n",
      "epoch=33, lrate=0.50000, error=13.55834\n",
      "epoch=34, lrate=0.50000, error=13.50347\n",
      "epoch=35, lrate=0.50000, error=13.44965\n",
      "epoch=36, lrate=0.50000, error=13.39651\n",
      "epoch=37, lrate=0.50000, error=13.34373\n",
      "epoch=38, lrate=0.50000, error=13.29105\n",
      "epoch=39, lrate=0.50000, error=13.23827\n",
      "epoch=40, lrate=0.50000, error=13.18527\n",
      "epoch=41, lrate=0.50000, error=13.13192\n",
      "epoch=42, lrate=0.50000, error=13.07815\n",
      "epoch=43, lrate=0.50000, error=13.02390\n",
      "epoch=44, lrate=0.50000, error=12.96913\n",
      "epoch=45, lrate=0.50000, error=12.91380\n",
      "epoch=46, lrate=0.50000, error=12.85788\n",
      "epoch=47, lrate=0.50000, error=12.80138\n",
      "epoch=48, lrate=0.50000, error=12.74426\n",
      "epoch=49, lrate=0.50000, error=12.68653\n",
      "epoch=50, lrate=0.50000, error=12.62818\n",
      "epoch=51, lrate=0.50000, error=12.56922\n",
      "epoch=52, lrate=0.50000, error=12.50966\n",
      "epoch=53, lrate=0.50000, error=12.44952\n",
      "epoch=54, lrate=0.50000, error=12.38881\n",
      "epoch=55, lrate=0.50000, error=12.32756\n",
      "epoch=56, lrate=0.50000, error=12.26582\n",
      "epoch=57, lrate=0.50000, error=12.20362\n",
      "epoch=58, lrate=0.50000, error=12.14102\n",
      "epoch=59, lrate=0.50000, error=12.07808\n",
      "epoch=60, lrate=0.50000, error=12.01489\n",
      "epoch=61, lrate=0.50000, error=11.95152\n",
      "epoch=62, lrate=0.50000, error=11.88808\n",
      "epoch=63, lrate=0.50000, error=11.82467\n",
      "epoch=64, lrate=0.50000, error=11.76142\n",
      "epoch=65, lrate=0.50000, error=11.69844\n",
      "epoch=66, lrate=0.50000, error=11.63588\n",
      "epoch=67, lrate=0.50000, error=11.57388\n",
      "epoch=68, lrate=0.50000, error=11.51259\n",
      "epoch=69, lrate=0.50000, error=11.45216\n",
      "epoch=70, lrate=0.50000, error=11.39273\n",
      "epoch=71, lrate=0.50000, error=11.33445\n",
      "epoch=72, lrate=0.50000, error=11.27744\n",
      "epoch=73, lrate=0.50000, error=11.22183\n",
      "epoch=74, lrate=0.50000, error=11.16773\n",
      "epoch=75, lrate=0.50000, error=11.11522\n",
      "epoch=76, lrate=0.50000, error=11.06438\n",
      "epoch=77, lrate=0.50000, error=11.01526\n",
      "epoch=78, lrate=0.50000, error=10.96789\n",
      "epoch=79, lrate=0.50000, error=10.92228\n",
      "epoch=80, lrate=0.50000, error=10.87843\n",
      "epoch=81, lrate=0.50000, error=10.83632\n",
      "epoch=82, lrate=0.50000, error=10.79591\n",
      "epoch=83, lrate=0.50000, error=10.75716\n",
      "epoch=84, lrate=0.50000, error=10.72002\n",
      "epoch=85, lrate=0.50000, error=10.68441\n",
      "epoch=86, lrate=0.50000, error=10.65029\n",
      "epoch=87, lrate=0.50000, error=10.61757\n",
      "epoch=88, lrate=0.50000, error=10.58619\n",
      "epoch=89, lrate=0.50000, error=10.55608\n",
      "epoch=90, lrate=0.50000, error=10.52716\n",
      "epoch=91, lrate=0.50000, error=10.49939\n",
      "epoch=92, lrate=0.50000, error=10.47268\n",
      "epoch=93, lrate=0.50000, error=10.44699\n",
      "epoch=94, lrate=0.50000, error=10.42225\n",
      "epoch=95, lrate=0.50000, error=10.39841\n",
      "epoch=96, lrate=0.50000, error=10.37542\n",
      "epoch=97, lrate=0.50000, error=10.35324\n",
      "epoch=98, lrate=0.50000, error=10.33181\n",
      "epoch=99, lrate=0.50000, error=10.31109\n"
     ]
    }
   ],
   "source": [
    "#feeding the datset into the neuralNetwork\n",
    "neuralNetwork= initNetwork(inputsNum,1,outputsNum)\n",
    "train(neuralNetwork, train_dataset, 0.5, 100, outputsNum)"
   ]
  },
  {
   "cell_type": "code",
   "execution_count": 13,
   "metadata": {},
   "outputs": [
    {
     "name": "stdout",
     "output_type": "stream",
     "text": [
      "[{'weights': [2.6417934675251566, 0.009877371862266886, 3.3221178639544804, 0.9839127630763476, 12.214539349998109, -1.508865953272108, -5.098627054757496, 2.165708239080604, 2.905601733210252], 'output': 0.03338945393592741, 'delta': -0.0058474118956641395}]\n",
      "[{'weights': [-7.519615592042839, 2.2801603906986414], 'output': 0.8831963320575447, 'delta': 0.01204953309124326}, {'weights': [7.521296380971552, -2.280639845727446], 'output': 0.11675956501503826, 'delta': -0.012041036688974991}]\n"
     ]
    }
   ],
   "source": [
    "#learned weights of the neuralNetwork\n",
    "for neuralLayer in neuralNetwork:\n",
    "    print(neuralLayer)"
   ]
  },
  {
   "cell_type": "code",
   "execution_count": 14,
   "metadata": {},
   "outputs": [],
   "source": [
    "#applying on training dataset\n",
    "y_train=[]\n",
    "pred=[]\n",
    "for row in train_dataset:\n",
    "    prediction = predict(neuralNetwork, row)\n",
    "    y_train.append(int(row[-1]))\n",
    "    pred.append(prediction)"
   ]
  },
  {
   "cell_type": "code",
   "execution_count": 15,
   "metadata": {},
   "outputs": [
    {
     "name": "stdout",
     "output_type": "stream",
     "text": [
      "Accuracy:  0.9397590361445783\n",
      "Confusion Matrix:  [[41  0]\n",
      " [ 5 37]]\n",
      "Precision:  1.0\n",
      "recall:  0.8809523809523809\n"
     ]
    }
   ],
   "source": [
    "print(\"Accuracy: \",accuracy_score(y_train,pred))\n",
    "print(\"Confusion Matrix: \",confusion_matrix(y_train,pred))\n",
    "print(\"Precision: \",precision_score(y_train, pred))\n",
    "print(\"recall: \",recall_score(y_train, pred))"
   ]
  },
  {
   "cell_type": "code",
   "execution_count": 16,
   "metadata": {},
   "outputs": [],
   "source": [
    "#applying on testing dataset\n",
    "y_test=[]\n",
    "pred=[]\n",
    "for row in test_dataset:\n",
    "    prediction = predict(neuralNetwork, row)\n",
    "    y_test.append(row[-1])\n",
    "    pred.append(prediction)"
   ]
  },
  {
   "cell_type": "code",
   "execution_count": 17,
   "metadata": {},
   "outputs": [
    {
     "name": "stdout",
     "output_type": "stream",
     "text": [
      "Accuracy:  0.8648648648648649\n",
      "Confusion Matrix:  [[15  1]\n",
      " [ 4 17]]\n",
      "Precision:  0.9444444444444444\n",
      "recall:  0.8095238095238095\n"
     ]
    }
   ],
   "source": [
    "print(\"Accuracy: \",accuracy_score(y_test,pred))\n",
    "print(\"Confusion Matrix: \",confusion_matrix(y_test,pred))\n",
    "print(\"Precision: \",precision_score(y_test, pred))\n",
    "print(\"recall: \",recall_score(y_test, pred))"
   ]
  },
  {
   "cell_type": "code",
   "execution_count": null,
   "metadata": {},
   "outputs": [],
   "source": []
  }
 ],
 "metadata": {
  "kernelspec": {
   "display_name": "Python 3",
   "language": "python",
   "name": "python3"
  },
  "language_info": {
   "codemirror_mode": {
    "name": "ipython",
    "version": 3
   },
   "file_extension": ".py",
   "mimetype": "text/x-python",
   "name": "python",
   "nbconvert_exporter": "python",
   "pygments_lexer": "ipython3",
   "version": "3.7.6"
  }
 },
 "nbformat": 4,
 "nbformat_minor": 4
}
